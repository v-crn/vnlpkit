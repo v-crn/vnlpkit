{
 "cells": [
  {
   "cell_type": "markdown",
   "id": "f2cefdab-d8f3-4d4d-9321-f6a4a4633e66",
   "metadata": {},
   "source": [
    "# [Create fold with Livedoor Dataset | Kaggle](https://www.kaggle.com/code/co21cen/create-fold-with-livedoor-dataset)"
   ]
  },
  {
   "cell_type": "code",
   "execution_count": 1,
   "id": "7354092a-ef0f-4866-bcde-e126af976fd5",
   "metadata": {},
   "outputs": [
    {
     "name": "stdout",
     "output_type": "stream",
     "text": [
      "/root\n"
     ]
    }
   ],
   "source": [
    "%cd ~"
   ]
  },
  {
   "cell_type": "markdown",
   "id": "494c2124-ae8c-44ff-8b12-9dbe7ff3f589",
   "metadata": {
    "tags": []
   },
   "source": [
    "## コーパスのダウンロード"
   ]
  },
  {
   "cell_type": "code",
   "execution_count": 2,
   "id": "0ebb976b-9ea0-4e87-b798-40e272224d12",
   "metadata": {},
   "outputs": [
    {
     "name": "stdout",
     "output_type": "stream",
     "text": [
      "work/data/corpus/scripts/download_livedoor_news_corpus.sh\n"
     ]
    }
   ],
   "source": [
    "!ls work/data/corpus/scripts/download_livedoor_news_corpus.sh"
   ]
  },
  {
   "cell_type": "code",
   "execution_count": null,
   "id": "ce766e9f-0c61-4fb9-90e0-12c9c0123da5",
   "metadata": {},
   "outputs": [],
   "source": [
    "import subprocess\n",
    "\n",
    "cmd = \"sh work/data/corpus/scripts/download_livedoor_news_corpus.sh\"\n",
    "subprocess.run(cmd, shell=True)"
   ]
  },
  {
   "cell_type": "markdown",
   "id": "e6ff6285-a9f0-4bf4-b8d5-d164457110ca",
   "metadata": {},
   "source": [
    "## データの整形"
   ]
  },
  {
   "cell_type": "code",
   "execution_count": 4,
   "id": "326245fe-0c77-4a3e-854a-74f58d80df2e",
   "metadata": {},
   "outputs": [
    {
     "name": "stderr",
     "output_type": "stream",
     "text": [
      "<jemalloc>: MADV_DONTNEED does not work (memset will be used instead)\n",
      "<jemalloc>: (This is the expected behaviour if you are running under QEMU)\n"
     ]
    }
   ],
   "source": [
    "import glob\n",
    "import os\n",
    "\n",
    "import pandas as pd\n",
    "from sklearn import model_selection, preprocessing"
   ]
  },
  {
   "cell_type": "code",
   "execution_count": 1,
   "id": "e60b7f80-6f4f-4304-a8a0-f3e1883122cb",
   "metadata": {},
   "outputs": [],
   "source": [
    "from work.config.path.livedoor_news_corpus_paths import LivedoorNewsCorpusPaths"
   ]
  },
  {
   "cell_type": "code",
   "execution_count": 5,
   "id": "ed69d916-dd73-4aab-a49b-649cd752d4bf",
   "metadata": {},
   "outputs": [
    {
     "name": "stdout",
     "output_type": "stream",
     "text": [
      "category length: 9\n",
      "categories     : ['dokujo-tsushin', 'it-life-hack', 'kaden-channel', 'livedoor-homme', 'movie-enter', 'peachy', 'smax', 'sports-watch', 'topic-news']\n"
     ]
    }
   ],
   "source": [
    "text_dir = LivedoorNewsCorpusPaths.LIVEDOOR_NEWS_CORPUS_TEXT_DIR\n",
    "files_folders = [name for name in os.listdir(text_dir)]\n",
    "\n",
    "categories = [name for name in os.listdir(text_dir) if os.path.isdir(text_dir + name)]\n",
    "\n",
    "print(\"category length:\", len(categories))\n",
    "print(\"categories     :\", categories)"
   ]
  },
  {
   "cell_type": "code",
   "execution_count": 6,
   "id": "7d5bc6b2-1597-45fb-9cc0-e17cce973db0",
   "metadata": {},
   "outputs": [],
   "source": [
    "def extract_main_txt(file_name):\n",
    "    with open(file_name) as text_file:\n",
    "        # extract only text\n",
    "        text = text_file.readlines()[3:]\n",
    "\n",
    "        text = [sentence.strip() for sentence in text]\n",
    "        text = list(filter(lambda line: line != \"\", text))\n",
    "        text = \"\".join(text)\n",
    "        text = text.translate(\n",
    "            str.maketrans({\"\\n\": \"\", \"\\t\": \"\", \"\\r\": \"\", \"\\u3000\": \"\"})\n",
    "        )\n",
    "        return text"
   ]
  },
  {
   "cell_type": "code",
   "execution_count": 7,
   "id": "71e8ff52-7344-4e6f-910d-23ad2843a551",
   "metadata": {},
   "outputs": [],
   "source": [
    "class LivedoorNewsCorpusColumns:\n",
    "    TEXT = \"text\"\n",
    "    CATEGORY = \"category\"\n",
    "    CATEGORY_LABEL = \"category_label\""
   ]
  },
  {
   "cell_type": "code",
   "execution_count": 8,
   "id": "6802e059-5432-44ba-ab79-a55f34bc838e",
   "metadata": {},
   "outputs": [],
   "source": [
    "list_text = []\n",
    "list_label = []\n",
    "\n",
    "for cat in categories:\n",
    "    text_files = glob.glob(os.path.join(text_dir, cat, \"*.txt\"))\n",
    "\n",
    "    body = [extract_main_txt(text_file) for text_file in text_files]\n",
    "    label = [cat] * len(body)\n",
    "\n",
    "    list_text.extend(body)\n",
    "    list_label.extend(label)"
   ]
  },
  {
   "cell_type": "code",
   "execution_count": 9,
   "id": "6dad638b-ac99-47ea-a803-001fb0f05910",
   "metadata": {},
   "outputs": [],
   "source": [
    "df = pd.DataFrame(\n",
    "    {\n",
    "        LivedoorNewsCorpusColumns.TEXT: list_text,\n",
    "        LivedoorNewsCorpusColumns.CATEGORY: list_label,\n",
    "    }\n",
    ")"
   ]
  },
  {
   "cell_type": "code",
   "execution_count": 10,
   "id": "a18ff826-56d4-408a-98bc-c39edb23efba",
   "metadata": {},
   "outputs": [
    {
     "name": "stdout",
     "output_type": "stream",
     "text": [
      "data shape : (7376, 3)\n"
     ]
    },
    {
     "data": {
      "text/html": [
       "<div>\n",
       "<style scoped>\n",
       "    .dataframe tbody tr th:only-of-type {\n",
       "        vertical-align: middle;\n",
       "    }\n",
       "\n",
       "    .dataframe tbody tr th {\n",
       "        vertical-align: top;\n",
       "    }\n",
       "\n",
       "    .dataframe thead th {\n",
       "        text-align: right;\n",
       "    }\n",
       "</style>\n",
       "<table border=\"1\" class=\"dataframe\">\n",
       "  <thead>\n",
       "    <tr style=\"text-align: right;\">\n",
       "      <th></th>\n",
       "      <th>text</th>\n",
       "      <th>category</th>\n",
       "      <th>category_label</th>\n",
       "    </tr>\n",
       "  </thead>\n",
       "  <tbody>\n",
       "    <tr>\n",
       "      <th>0</th>\n",
       "      <td>自由に転載・引用が可能です。このディレクトリの記事ファイル内容の提供元：独女通信http:/...</td>\n",
       "      <td>dokujo-tsushin</td>\n",
       "      <td>0</td>\n",
       "    </tr>\n",
       "    <tr>\n",
       "      <th>1</th>\n",
       "      <td>もうすぐジューン・ブライドと呼ばれる６月。独女の中には自分の式はまだなのに呼ばれてばかり……...</td>\n",
       "      <td>dokujo-tsushin</td>\n",
       "      <td>0</td>\n",
       "    </tr>\n",
       "    <tr>\n",
       "      <th>2</th>\n",
       "      <td>携帯電話が普及する以前、恋人への連絡ツールは一般電話が普通だった。恋人と別れたら、手帳に書か...</td>\n",
       "      <td>dokujo-tsushin</td>\n",
       "      <td>0</td>\n",
       "    </tr>\n",
       "    <tr>\n",
       "      <th>3</th>\n",
       "      <td>「男性はやっぱり、女性の“すっぴん”が大好きなんですかね」と不満そうに話すのは、出版関係で働...</td>\n",
       "      <td>dokujo-tsushin</td>\n",
       "      <td>0</td>\n",
       "    </tr>\n",
       "    <tr>\n",
       "      <th>4</th>\n",
       "      <td>ヒップの加齢による変化は「たわむ→下がる→内に流れる」、バストは「そげる→たわむ→外に流れる...</td>\n",
       "      <td>dokujo-tsushin</td>\n",
       "      <td>0</td>\n",
       "    </tr>\n",
       "  </tbody>\n",
       "</table>\n",
       "</div>"
      ],
      "text/plain": [
       "                                                text        category  \\\n",
       "0  自由に転載・引用が可能です。このディレクトリの記事ファイル内容の提供元：独女通信http:/...  dokujo-tsushin   \n",
       "1  もうすぐジューン・ブライドと呼ばれる６月。独女の中には自分の式はまだなのに呼ばれてばかり……...  dokujo-tsushin   \n",
       "2  携帯電話が普及する以前、恋人への連絡ツールは一般電話が普通だった。恋人と別れたら、手帳に書か...  dokujo-tsushin   \n",
       "3  「男性はやっぱり、女性の“すっぴん”が大好きなんですかね」と不満そうに話すのは、出版関係で働...  dokujo-tsushin   \n",
       "4  ヒップの加齢による変化は「たわむ→下がる→内に流れる」、バストは「そげる→たわむ→外に流れる...  dokujo-tsushin   \n",
       "\n",
       "   category_label  \n",
       "0               0  \n",
       "1               0  \n",
       "2               0  \n",
       "3               0  \n",
       "4               0  "
      ]
     },
     "execution_count": 10,
     "metadata": {},
     "output_type": "execute_result"
    }
   ],
   "source": [
    "lbl_enc = preprocessing.LabelEncoder()\n",
    "y = lbl_enc.fit_transform(df[LivedoorNewsCorpusColumns.CATEGORY].values)\n",
    "df[LivedoorNewsCorpusColumns.CATEGORY_LABEL] = y\n",
    "print(\"data shape :\", df.shape)\n",
    "df.head()"
   ]
  },
  {
   "cell_type": "code",
   "execution_count": 11,
   "id": "01ad5cfb-bbba-4d86-bf1d-82235176fe65",
   "metadata": {},
   "outputs": [
    {
     "data": {
      "text/plain": [
       "array(['dokujo-tsushin', 'it-life-hack', 'kaden-channel',\n",
       "       'livedoor-homme', 'movie-enter', 'peachy', 'smax', 'sports-watch',\n",
       "       'topic-news'], dtype=object)"
      ]
     },
     "execution_count": 11,
     "metadata": {},
     "output_type": "execute_result"
    }
   ],
   "source": [
    "df[LivedoorNewsCorpusColumns.CATEGORY].unique()"
   ]
  },
  {
   "cell_type": "code",
   "execution_count": 12,
   "id": "c2dba507-8f36-406f-93db-e89fed22a19a",
   "metadata": {},
   "outputs": [
    {
     "data": {
      "text/plain": [
       "array([0, 1, 2, 3, 4, 5, 6, 7, 8])"
      ]
     },
     "execution_count": 12,
     "metadata": {},
     "output_type": "execute_result"
    }
   ],
   "source": [
    "df[LivedoorNewsCorpusColumns.CATEGORY_LABEL].unique()"
   ]
  },
  {
   "cell_type": "markdown",
   "id": "3f029c81-8f7e-4d0f-92fb-e45c83d9cc27",
   "metadata": {},
   "source": [
    "## 保存"
   ]
  },
  {
   "cell_type": "code",
   "execution_count": 13,
   "id": "9e440ac7-5c2e-4957-b855-20f0d2a80ee5",
   "metadata": {},
   "outputs": [
    {
     "data": {
      "text/plain": [
       "'work/data/corpus/livedoor_news/livedoor_news_corpus_ldcc-20140209.csv'"
      ]
     },
     "execution_count": 13,
     "metadata": {},
     "output_type": "execute_result"
    }
   ],
   "source": [
    "LivedoorNewsCorpusPaths.LIVEDOOR_NEWS_CORPUS_RAW_PATH"
   ]
  },
  {
   "cell_type": "code",
   "execution_count": 14,
   "id": "66985759-0f38-4858-8080-7a5708005de5",
   "metadata": {},
   "outputs": [],
   "source": [
    "filepath = LivedoorNewsCorpusPaths.LIVEDOOR_NEWS_CORPUS_RAW_PATH\n",
    "df.to_csv(filepath, index=False)"
   ]
  }
 ],
 "metadata": {
  "kernelspec": {
   "display_name": "Python 3 (ipykernel)",
   "language": "python",
   "name": "python3"
  },
  "language_info": {
   "codemirror_mode": {
    "name": "ipython",
    "version": 3
   },
   "file_extension": ".py",
   "mimetype": "text/x-python",
   "name": "python",
   "nbconvert_exporter": "python",
   "pygments_lexer": "ipython3",
   "version": "3.10.7"
  }
 },
 "nbformat": 4,
 "nbformat_minor": 5
}

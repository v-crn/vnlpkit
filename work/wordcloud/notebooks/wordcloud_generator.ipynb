{
 "cells": [
  {
   "cell_type": "code",
   "execution_count": 1,
   "id": "0db586ff-9ef1-4bda-a35f-482ab8fa0203",
   "metadata": {},
   "outputs": [
    {
     "name": "stdout",
     "output_type": "stream",
     "text": [
      "/root\n"
     ]
    }
   ],
   "source": [
    "%cd ~"
   ]
  },
  {
   "cell_type": "code",
   "execution_count": 2,
   "id": "6dfd0344-d9a2-46d9-a207-6490be5c111e",
   "metadata": {},
   "outputs": [],
   "source": [
    "import japanize_matplotlib\n",
    "import matplotlib.pyplot as plt\n",
    "from wordcloud import WordCloud\n",
    "\n",
    "%matplotlib inline"
   ]
  },
  {
   "cell_type": "code",
   "execution_count": 2,
   "id": "4e71dd3d-c4d6-49d9-864d-e379b1072c2e",
   "metadata": {},
   "outputs": [],
   "source": [
    "from work.fonts.font_paths import FontPaths"
   ]
  },
  {
   "cell_type": "code",
   "execution_count": 3,
   "id": "c9640a9b-e696-4234-8201-7c7f12a7200f",
   "metadata": {},
   "outputs": [
    {
     "data": {
      "text/plain": [
       "''"
      ]
     },
     "execution_count": 3,
     "metadata": {},
     "output_type": "execute_result"
    }
   ],
   "source": [
    "from vnlpkit.utils.finder import find_path\n",
    "\n",
    "partial_path = \"meiryob\"\n",
    "find_path(partial_path=partial_path, use_cache=True)"
   ]
  },
  {
   "cell_type": "code",
   "execution_count": null,
   "id": "07521faa-75d6-43ac-93d5-17fb1bbf2540",
   "metadata": {},
   "outputs": [],
   "source": []
  }
 ],
 "metadata": {
  "kernelspec": {
   "display_name": "Python 3 (ipykernel)",
   "language": "python",
   "name": "python3"
  },
  "language_info": {
   "codemirror_mode": {
    "name": "ipython",
    "version": 3
   },
   "file_extension": ".py",
   "mimetype": "text/x-python",
   "name": "python",
   "nbconvert_exporter": "python",
   "pygments_lexer": "ipython3",
   "version": "3.10.7"
  },
  "vscode": {
   "interpreter": {
    "hash": "32bdc5cf5a517dc350bd5d53f51830d772bc54296e378cb98c4e601305e52c62"
   }
  }
 },
 "nbformat": 4,
 "nbformat_minor": 5
}

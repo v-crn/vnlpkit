{
 "cells": [
  {
   "cell_type": "code",
   "execution_count": 1,
   "id": "34a6e71d-46cf-45d1-92ea-ba617849b491",
   "metadata": {},
   "outputs": [
    {
     "name": "stdout",
     "output_type": "stream",
     "text": [
      "すもももももももものうち\t名詞,固有名詞,一般,*,*,*,すもももももももものうち,スモモモモモモモモノウチ,スモモモモモモモモノウチ\n",
      "EOS\n",
      "\n"
     ]
    }
   ],
   "source": [
    "import MeCab\n",
    "\n",
    "text = \"すもももももももものうち\"\n",
    "mecab = MeCab.Tagger()\n",
    "parsed_text = mecab.parse(text)\n",
    "print(parsed_text)"
   ]
  },
  {
   "cell_type": "code",
   "execution_count": 2,
   "id": "8a03acd4-2b4d-4400-9bd2-53b02998f314",
   "metadata": {},
   "outputs": [
    {
     "data": {
      "text/plain": [
       "'/var/lib/mecab/dic/ipadic-utf8'"
      ]
     },
     "execution_count": 2,
     "metadata": {},
     "output_type": "execute_result"
    }
   ],
   "source": [
    "import subprocess\n",
    "\n",
    "cmd = \"find / -path */mecab/dic/ipadic-utf8 2> /dev/null | head -1\"\n",
    "\n",
    "IPADIC_UTIF8_PATH = (\n",
    "    subprocess.Popen(\n",
    "        cmd,\n",
    "        stdout=subprocess.PIPE,\n",
    "        stderr=subprocess.PIPE,\n",
    "        shell=True,\n",
    "        encoding=\"utf-8\",\n",
    "    )\n",
    "    .communicate()[0]\n",
    "    .strip()\n",
    ")\n",
    "\n",
    "IPADIC_UTIF8_PATH"
   ]
  },
  {
   "cell_type": "code",
   "execution_count": 3,
   "id": "e9b69d83-ccfc-46d7-8a67-e667dbed8571",
   "metadata": {},
   "outputs": [
    {
     "data": {
      "text/plain": [
       "'すもも も もも も もも の うち'"
      ]
     },
     "execution_count": 3,
     "metadata": {},
     "output_type": "execute_result"
    }
   ],
   "source": [
    "wakati = MeCab.Tagger(f\"-d {IPADIC_UTIF8_PATH} -Owakati\")\n",
    "wakati_text = wakati.parse(text).strip()\n",
    "wakati_text"
   ]
  },
  {
   "cell_type": "code",
   "execution_count": null,
   "id": "b759cee4-65db-4fbc-9e05-0641807f789b",
   "metadata": {},
   "outputs": [],
   "source": []
  }
 ],
 "metadata": {
  "kernelspec": {
   "display_name": "Python 3 (ipykernel)",
   "language": "python",
   "name": "python3"
  },
  "language_info": {
   "codemirror_mode": {
    "name": "ipython",
    "version": 3
   },
   "file_extension": ".py",
   "mimetype": "text/x-python",
   "name": "python",
   "nbconvert_exporter": "python",
   "pygments_lexer": "ipython3",
   "version": "3.10.7"
  }
 },
 "nbformat": 4,
 "nbformat_minor": 5
}
